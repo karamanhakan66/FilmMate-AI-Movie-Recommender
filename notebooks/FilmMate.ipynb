{
 "cells": [
  {
   "cell_type": "code",
   "execution_count": 1,
   "metadata": {},
   "outputs": [
    {
     "name": "stdout",
     "output_type": "stream",
     "text": [
      "FilmMate projesine hoş geldiniz! 🎬\n"
     ]
    }
   ],
   "source": [
    "# Gerekli kütüphaneler\n",
    "import pandas as pd\n",
    "import numpy as np\n",
    "import matplotlib.pyplot as plt\n",
    "from sklearn.feature_extraction.text import CountVectorizer\n",
    "from sklearn.metrics.pairwise import cosine_similarity\n",
    "\n",
    "print(\"FilmMate projesine hoş geldiniz! 🎬\")"
   ]
  },
  {
   "cell_type": "code",
   "execution_count": 2,
   "metadata": {},
   "outputs": [
    {
     "name": "stdout",
     "output_type": "stream",
     "text": [
      "Veri seti boyutu: 87585 satır, 3 sütun\n",
      "\n"
     ]
    },
    {
     "data": {
      "text/html": [
       "<div>\n",
       "<style scoped>\n",
       "    .dataframe tbody tr th:only-of-type {\n",
       "        vertical-align: middle;\n",
       "    }\n",
       "\n",
       "    .dataframe tbody tr th {\n",
       "        vertical-align: top;\n",
       "    }\n",
       "\n",
       "    .dataframe thead th {\n",
       "        text-align: right;\n",
       "    }\n",
       "</style>\n",
       "<table border=\"1\" class=\"dataframe\">\n",
       "  <thead>\n",
       "    <tr style=\"text-align: right;\">\n",
       "      <th></th>\n",
       "      <th>movieId</th>\n",
       "      <th>title</th>\n",
       "      <th>genres</th>\n",
       "    </tr>\n",
       "  </thead>\n",
       "  <tbody>\n",
       "    <tr>\n",
       "      <th>0</th>\n",
       "      <td>1</td>\n",
       "      <td>Toy Story (1995)</td>\n",
       "      <td>Adventure|Animation|Children|Comedy|Fantasy</td>\n",
       "    </tr>\n",
       "    <tr>\n",
       "      <th>1</th>\n",
       "      <td>2</td>\n",
       "      <td>Jumanji (1995)</td>\n",
       "      <td>Adventure|Children|Fantasy</td>\n",
       "    </tr>\n",
       "    <tr>\n",
       "      <th>2</th>\n",
       "      <td>3</td>\n",
       "      <td>Grumpier Old Men (1995)</td>\n",
       "      <td>Comedy|Romance</td>\n",
       "    </tr>\n",
       "    <tr>\n",
       "      <th>3</th>\n",
       "      <td>4</td>\n",
       "      <td>Waiting to Exhale (1995)</td>\n",
       "      <td>Comedy|Drama|Romance</td>\n",
       "    </tr>\n",
       "    <tr>\n",
       "      <th>4</th>\n",
       "      <td>5</td>\n",
       "      <td>Father of the Bride Part II (1995)</td>\n",
       "      <td>Comedy</td>\n",
       "    </tr>\n",
       "  </tbody>\n",
       "</table>\n",
       "</div>"
      ],
      "text/plain": [
       "   movieId                               title  \\\n",
       "0        1                    Toy Story (1995)   \n",
       "1        2                      Jumanji (1995)   \n",
       "2        3             Grumpier Old Men (1995)   \n",
       "3        4            Waiting to Exhale (1995)   \n",
       "4        5  Father of the Bride Part II (1995)   \n",
       "\n",
       "                                        genres  \n",
       "0  Adventure|Animation|Children|Comedy|Fantasy  \n",
       "1                   Adventure|Children|Fantasy  \n",
       "2                               Comedy|Romance  \n",
       "3                         Comedy|Drama|Romance  \n",
       "4                                       Comedy  "
      ]
     },
     "execution_count": 2,
     "metadata": {},
     "output_type": "execute_result"
    }
   ],
   "source": [
    "# Veri setini oku\n",
    "movies_df = pd.read_csv('../data/movies.csv')\n",
    "print(f\"Veri seti boyutu: {movies_df.shape[0]} satır, {movies_df.shape[1]} sütun\\n\")\n",
    "movies_df.head()"
   ]
  },
  {
   "cell_type": "code",
   "execution_count": 3,
   "metadata": {},
   "outputs": [],
   "source": [
    "# Türleri vektörize et\n",
    "movies_df['genres_str'] = movies_df['genres'].str.replace('(no genres listed)', 'no_genres')\n",
    "movies_df['genres_str'] = movies_df['genres_str'].str.replace('|', ' ')\n",
    "\n",
    "# CountVectorizer'ı özel karakterleri koruyacak şekilde ayarla\n",
    "cv = CountVectorizer(token_pattern=r'[a-zA-Z\\-_]+')\n",
    "genre_matrix = cv.fit_transform(movies_df['genres_str'])"
   ]
  },
  {
   "cell_type": "code",
   "execution_count": 4,
   "metadata": {},
   "outputs": [],
   "source": [
    "def get_recommendations_efficient(movie_title, genre_matrix, n=5):\n",
    "    idx = movies_df[movies_df['title'] == movie_title].index[0]\n",
    "    movie_vector = genre_matrix[idx:idx+1]\n",
    "    sim_scores = cosine_similarity(movie_vector, genre_matrix).flatten()\n",
    "    \n",
    "    # Film yılını çıkar\n",
    "    try:\n",
    "        movie_year = int(movies_df.iloc[idx]['title'].split('(')[-1].strip(')'))\n",
    "    except:\n",
    "        movie_year = 2000\n",
    "    \n",
    "    # En benzer 20 filmi al\n",
    "    top_20_indices = sim_scores.argsort()[::-1][1:21]\n",
    "    recommendations = movies_df.iloc[top_20_indices][['title', 'genres']]\n",
    "    recommendations['similarity'] = sim_scores[top_20_indices]\n",
    "    \n",
    "    # Geçici olarak yıl sütunu ekle\n",
    "    recommendations['temp_year'] = recommendations['title'].apply(\n",
    "        lambda x: int(x.split('(')[-1].strip(')')) if '(' in x else 2000\n",
    "    )\n",
    "    \n",
    "    # Yıl farkına göre benzerliği güncelle\n",
    "    recommendations['similarity'] = recommendations.apply(\n",
    "        lambda x: x['similarity'] * (1 - min(abs(movie_year - x['temp_year']) * 0.01, 0.5)), \n",
    "        axis=1\n",
    "    )\n",
    "    \n",
    "    # Geçici yıl sütununu kaldır\n",
    "    recommendations = recommendations.drop('temp_year', axis=1)\n",
    "    \n",
    "    # Son sıralamayı yap\n",
    "    recommendations = recommendations.sort_values('similarity', ascending=False).head(n)\n",
    "    return recommendations"
   ]
  },
  {
   "cell_type": "code",
   "execution_count": 5,
   "metadata": {},
   "outputs": [
    {
     "name": "stdout",
     "output_type": "stream",
     "text": [
      "Güncellenmiş öneriler - Toy Story (1995) için:\n",
      "\n",
      "                                                   title  \\\n",
      "22298                                     Aladdin (1992)   \n",
      "2203                                         Antz (1998)   \n",
      "3021                                  Toy Story 2 (1999)   \n",
      "3913                    Emperor's New Groove, The (2000)   \n",
      "17436  Asterix and the Vikings (Astérix et les Viking...   \n",
      "\n",
      "                                            genres  similarity  \n",
      "22298  Adventure|Animation|Children|Comedy|Fantasy        0.97  \n",
      "2203   Adventure|Animation|Children|Comedy|Fantasy        0.97  \n",
      "3021   Adventure|Animation|Children|Comedy|Fantasy        0.96  \n",
      "3913   Adventure|Animation|Children|Comedy|Fantasy        0.95  \n",
      "17436  Adventure|Animation|Children|Comedy|Fantasy        0.89  \n",
      "\n",
      "Güncellenmiş öneriler - Jumanji (1995) için:\n",
      "\n",
      "                                                   title  \\\n",
      "43363                    Escape to Witch Mountain (1995)   \n",
      "9559                           Magic in the Water (1995)   \n",
      "26557                 The Cave of the Golden Rose (1991)   \n",
      "26317                             Le petit poucet (2001)   \n",
      "53050  The Chronicles of Narnia: The Lion, the Witch ...   \n",
      "\n",
      "                           genres  similarity  \n",
      "43363  Adventure|Children|Fantasy        1.00  \n",
      "9559   Adventure|Children|Fantasy        1.00  \n",
      "26557  Adventure|Children|Fantasy        0.96  \n",
      "26317  Adventure|Children|Fantasy        0.94  \n",
      "53050  Adventure|Children|Fantasy        0.93  \n"
     ]
    }
   ],
   "source": [
    "# Test edelim\n",
    "print(\"Güncellenmiş öneriler - Toy Story (1995) için:\\n\")\n",
    "print(get_recommendations_efficient('Toy Story (1995)', genre_matrix))\n",
    "\n",
    "print(\"\\nGüncellenmiş öneriler - Jumanji (1995) için:\\n\")\n",
    "print(get_recommendations_efficient('Jumanji (1995)', genre_matrix))"
   ]
  }
 ],
 "metadata": {
  "language_info": {
   "name": "python"
  }
 },
 "nbformat": 4,
 "nbformat_minor": 2
}
